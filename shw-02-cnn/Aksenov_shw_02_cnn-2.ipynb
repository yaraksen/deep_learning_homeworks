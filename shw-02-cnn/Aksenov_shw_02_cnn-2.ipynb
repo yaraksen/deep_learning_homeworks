{
 "cells": [
  {
   "cell_type": "markdown",
   "metadata": {
    "id": "w35Q6hOIy4sk"
   },
   "source": [
    "# Глубинное обучение 1 / Введение в глубинное обучение, ФКН ВШЭ\n",
    "\n",
    "## Домашнее задание 2: сверточный классификатор.\n",
    "\n",
    "### Общая информация\n",
    "\n",
    "Оценка после штрафа после мягкого дедлайна вычисляется по формуле $M_{\\text{penalty}} = M_{\\text{full}} \\cdot 0.85^{t/1440}$, где $M_{\\text{full}}$ — полная оценка за работу без учета штрафа, а $t$ — время в минутах, прошедшее после мягкого дедлайна (округление до двух цифр после запятой). Таким образом, спустя первые сутки после мягкого дедлайна вы не можете получить оценку выше 8.5, а если сдать через четыре дня после мягкого дедлайна, то ваш максимум — 5.22 балла.\n",
    "\n",
    "### Оценивание и штрафы\n",
    "\n",
    "Максимально допустимая оценка за работу — 10 баллов. Сдавать задание после указанного срока сдачи нельзя.\n",
    "\n",
    "Задание выполняется самостоятельно. «Похожие» решения считаются плагиатом и все задействованные студенты (в том числе те, у кого списали) не могут получить за него больше 0 баллов. Если вы нашли решение какого-то из заданий (или его часть) в открытом источнике, необходимо указать ссылку на этот источник в отдельном блоке в конце вашей работы (скорее всего вы будете не единственным, кто это нашел, поэтому чтобы исключить подозрение в плагиате, необходима ссылка на источник).\n",
    "\n",
    "Неэффективная реализация кода может негативно отразиться на оценке. Также оценка может быть снижена за плохо читаемый код и плохо оформленные графики. Все ответы должны сопровождаться кодом или комментариями о том, как они были получены.\n",
    "\n",
    "### О задании\n",
    "\n",
    "В этом задании вам предстоит познакомиться со сверточными сетями и их обучением для классификации изображений с использованием библиотеки PyTorch.\n"
   ]
  },
  {
   "cell_type": "code",
   "execution_count": 1,
   "metadata": {
    "id": "SaACifdX2QOo"
   },
   "outputs": [],
   "source": [
    "import torch\n",
    "import torch.nn as nn\n",
    "import torch.nn.functional as F\n",
    "import torch.optim as optim\n",
    "import torchvision\n",
    "import torchvision.transforms as transforms\n",
    "\n",
    "import matplotlib.pyplot as plt\n",
    "import numpy as np\n",
    "\n",
    "from sklearn.model_selection import train_test_split"
   ]
  },
  {
   "cell_type": "markdown",
   "metadata": {
    "id": "TIXaUYM-0JFl"
   },
   "source": [
    "## 0. Загрузка данных\n",
    "\n",
    "Работать мы будем с набором данных [CIFAR10](https://www.cs.toronto.edu/~kriz/cifar.html). CIFAR10 представляет собой набор изображений 32х32 пикселя, разделенных на 10 классов.\n",
    "\n",
    "![title](https://pytorch.org/tutorials/_images/cifar10.png)\n",
    "\n",
    "\n"
   ]
  },
  {
   "cell_type": "markdown",
   "metadata": {
    "id": "g-0EEjl_10vB"
   },
   "source": [
    "Набор данных уже определен в <code>torchvision.datasets</code>, так что возьмем его оттуда. \n",
    "\n"
   ]
  },
  {
   "cell_type": "code",
   "execution_count": 3,
   "metadata": {
    "id": "Cbwe92dT3aPZ"
   },
   "outputs": [],
   "source": [
    "def get_cifar10_data(batch_size, transform_train):\n",
    "    torch.manual_seed(0)\n",
    "    np.random.seed(0)\n",
    "\n",
    "    transform_test = transforms.Compose(\n",
    "        [transforms.ToTensor(),\n",
    "         # Переводим цвета пикселей в отрезок [-1, 1]\n",
    "         transforms.Normalize((0.5, 0.5, 0.5), (0.5, 0.5, 0.5))]\n",
    "    )\n",
    "    \n",
    "    # Загружаем данные\n",
    "    trainvalset = torchvision.datasets.CIFAR10(root='./data', train=True,\n",
    "                                               download=True, transform=transform_train)\n",
    "    testset = torchvision.datasets.CIFAR10(root='./data', train=False,\n",
    "                                           download=True, transform=transform_test)\n",
    "    \n",
    "    # В датасете определено разбиение только на train и test,\n",
    "    # так что валидацию дополнительно выделяем из обучающей выборки\n",
    "    train_idx, valid_idx = train_test_split(np.arange(len(trainvalset)), test_size=0.3, \n",
    "                                            shuffle=True, random_state=0)\n",
    "    trainset = torch.utils.data.Subset(trainvalset, train_idx)\n",
    "    valset = torch.utils.data.Subset(trainvalset, valid_idx)\n",
    "\n",
    "    train_loader = torch.utils.data.DataLoader(trainset, batch_size=batch_size,\n",
    "                                               shuffle=True, num_workers=2)\n",
    "    val_loader = torch.utils.data.DataLoader(valset, batch_size=batch_size,\n",
    "                                             shuffle=False, num_workers=2)\n",
    "    test_loader = torch.utils.data.DataLoader(testset, batch_size=batch_size,\n",
    "                                              shuffle=False, num_workers=2)\n",
    "    \n",
    "    return train_loader, val_loader, test_loader\n",
    "    "
   ]
  },
  {
   "cell_type": "code",
   "execution_count": 4,
   "metadata": {
    "colab": {
     "base_uri": "https://localhost:8080/"
    },
    "id": "2G2rLnN5y6Jj",
    "outputId": "c2ff8afe-e033-4da8-fd3d-95daa69b49a0"
   },
   "outputs": [
    {
     "name": "stdout",
     "output_type": "stream",
     "text": [
      "Files already downloaded and verified\n",
      "Files already downloaded and verified\n"
     ]
    }
   ],
   "source": [
    "transform = transforms.Compose(\n",
    "        [transforms.ToTensor(),\n",
    "         transforms.Normalize((0.5, 0.5, 0.5), (0.5, 0.5, 0.5))]\n",
    ")\n",
    "\n",
    "train_loader, val_loader, test_loader = get_cifar10_data(batch_size=64, \n",
    "                                                         transform_train=transform)"
   ]
  },
  {
   "cell_type": "markdown",
   "metadata": {
    "id": "-82HWgXs77W1"
   },
   "source": [
    "Посмотрим на изображения:"
   ]
  },
  {
   "cell_type": "code",
   "execution_count": 5,
   "metadata": {
    "colab": {
     "base_uri": "https://localhost:8080/",
     "height": 156
    },
    "id": "ACnwaC5iy6L2",
    "outputId": "f1408c78-8611-4a6d-e318-d7671b32af6c"
   },
   "outputs": [
    {
     "data": {
      "image/png": "[encoded data removed]",
      "text/plain": [
       "<Figure size 640x480 with 1 Axes>"
      ]
     },
     "metadata": {},
     "output_type": "display_data"
    },
    {
     "name": "stdout",
     "output_type": "stream",
     "text": [
      "ship frog horse horse\n"
     ]
    }
   ],
   "source": [
    "def imshow(img):\n",
    "    img = img / 2 + 0.5    \n",
    "    npimg = img.numpy()\n",
    "    plt.imshow(np.transpose(npimg, (1, 2, 0)))\n",
    "    plt.show()\n",
    "\n",
    "\n",
    "dataiter = iter(train_loader)\n",
    "images, labels = dataiter.next()\n",
    "\n",
    "imshow(torchvision.utils.make_grid(images[:4]))\n",
    "\n",
    "classes = ('plane', 'car', 'bird', 'cat',\n",
    "           'deer', 'dog', 'frog', 'horse', 'ship', 'truck')\n",
    "print(*[classes[labels[i]] for i in range(4)])"
   ]
  },
  {
   "cell_type": "markdown",
   "metadata": {
    "id": "KFDilng29YZ_"
   },
   "source": [
    "## 1. Задание сверточной сети (3 балла)"
   ]
  },
  {
   "cell_type": "markdown",
   "metadata": {
    "id": "OX7Ul8YbYdQR"
   },
   "source": [
    "Теперь нам нужно задать сверточную нейронную сеть, которую мы будем обучать классифицировать изображения.\n",
    "\n",
    "Используем сеть, основанную на одном блоке архитектуры ResNet.\n",
    "\n",
    "<img src=\"https://i.ibb.co/2hg962h/basic-block.png\" width=\"500\"/>\n",
    "\n",
    "__Указания:__\n",
    "\n",
    "- Все сверточные слои должны иметь 32 выходных канала, а также не должны изменять ширину и высоту изображения.\n",
    "- Выход блока сократите до размерности 32х4х4, применив average pooling.\n",
    "- Для получения итоговых логитов, распрямите выход пулинга в вектор из 512 элементов, а затем пропустите его через линейный слой."
   ]
  },
  {
   "cell_type": "markdown",
   "metadata": {
    "id": "sbyIylT9O9Dr"
   },
   "source": [
    "**Задание 1.1 (3 балла).**\n",
    "\n",
    "Определите архитектуру сети соответственно схеме и указаниям выше.\n",
    "\n",
    "Ключевые слова: <code>Conv2d</code>, <code>BatchNorm2d</code>, <code>AvgPool2d</code>."
   ]
  },
  {
   "cell_type": "code",
   "execution_count": 6,
   "metadata": {
    "id": "s9ml1QGKy6N9"
   },
   "outputs": [],
   "source": [
    "n_classes = 10\n",
    "\n",
    "class BasicBlockNet(nn.Module):\n",
    "    def __init__(self):\n",
    "        super().__init__()\n",
    "        \n",
    "        self.encoder = nn.Sequential(\n",
    "            nn.Conv2d(in_channels=3, out_channels=32, kernel_size=3, padding='same'),\n",
    "            nn.BatchNorm2d(num_features=32),\n",
    "            nn.ReLU(),\n",
    "            nn.Conv2d(in_channels=32, out_channels=32, kernel_size=3, padding='same'),\n",
    "            nn.BatchNorm2d(num_features=32),\n",
    "        )\n",
    "\n",
    "        self.skip_connenction = nn.Conv2d(in_channels=3, out_channels=32, kernel_size=1, padding='same')\n",
    "        self.pooling = nn.Sequential(\n",
    "            nn.ReLU(),\n",
    "            nn.AvgPool2d(8)\n",
    "        )\n",
    "        self.linear = nn.Linear(in_features=512, out_features=n_classes)\n",
    "\n",
    "    def forward(self, x):\n",
    "        out = self.encoder(x) + self.skip_connenction(x)\n",
    "        out = self.pooling(out)\n",
    "        out = self.linear(out.reshape((-1, 512)))\n",
    "\n",
    "        return out"
   ]
  },
  {
   "cell_type": "code",
   "execution_count": 7,
   "metadata": {
    "colab": {
     "base_uri": "https://localhost:8080/"
    },
    "id": "FI4BQg7Ky6Pw",
    "outputId": "d1d71908-6fe7-4074-d316-946b3078ce0c"
   },
   "outputs": [
    {
     "data": {
      "text/plain": [
       "BasicBlockNet(\n",
       "  (encoder): Sequential(\n",
       "    (0): Conv2d(3, 32, kernel_size=(3, 3), stride=(1, 1), padding=same)\n",
       "    (1): BatchNorm2d(32, eps=1e-05, momentum=0.1, affine=True, track_running_stats=True)\n",
       "    (2): ReLU()\n",
       "    (3): Conv2d(32, 32, kernel_size=(3, 3), stride=(1, 1), padding=same)\n",
       "    (4): BatchNorm2d(32, eps=1e-05, momentum=0.1, affine=True, track_running_stats=True)\n",
       "  )\n",
       "  (skip_connenction): Conv2d(3, 32, kernel_size=(1, 1), stride=(1, 1), padding=same)\n",
       "  (pooling): Sequential(\n",
       "    (0): ReLU()\n",
       "    (1): AvgPool2d(kernel_size=8, stride=8, padding=0)\n",
       "  )\n",
       "  (linear): Linear(in_features=512, out_features=10, bias=True)\n",
       ")"
      ]
     },
     "execution_count": 7,
     "metadata": {},
     "output_type": "execute_result"
    }
   ],
   "source": [
    "net = BasicBlockNet()\n",
    "net"
   ]
  },
  {
   "cell_type": "markdown",
   "metadata": {
    "id": "igPoGZEub8d3"
   },
   "source": [
    "Проверим, что выход сети имеет корректную размерность:"
   ]
  },
  {
   "cell_type": "code",
   "execution_count": 8,
   "metadata": {
    "id": "cCIzFUpJ_Agw"
   },
   "outputs": [],
   "source": [
    "assert net(torch.zeros((10, 3, 32, 32))).shape == (10, 10)"
   ]
  },
  {
   "cell_type": "markdown",
   "metadata": {
    "id": "08osX622cDGz"
   },
   "source": [
    "Чтобы проводить вычисления на GPU, в PyTorch необходимо руками перекладывать объекты, с которыми вы хотите проводить вычисления, на графический ускоритель. Это делается следующим образрм:"
   ]
  },
  {
   "cell_type": "code",
   "execution_count": 9,
   "metadata": {
    "colab": {
     "base_uri": "https://localhost:8080/"
    },
    "id": "56hDOMCFcDZX",
    "outputId": "cf5556e4-7dc6-46dc-b98a-548bfed21576"
   },
   "outputs": [
    {
     "name": "stdout",
     "output_type": "stream",
     "text": [
      "cuda:0\n"
     ]
    }
   ],
   "source": [
    "device = torch.device('cuda:0' if torch.cuda.is_available() else 'cpu')\n",
    "print(device)"
   ]
  },
  {
   "cell_type": "code",
   "execution_count": 10,
   "metadata": {
    "id": "ohnDWbp0qbtC"
   },
   "outputs": [],
   "source": [
    "net = net.to(device)"
   ]
  },
  {
   "cell_type": "markdown",
   "metadata": {
    "id": "H_bOlTVUp5QF"
   },
   "source": [
    "Подключение GPU в google.colab:\n",
    "\n",
    "**Среда выполнения** -> **Сменить среду выполнения** -> **Аппаратный ускоритель** -> **GPU**"
   ]
  },
  {
   "cell_type": "markdown",
   "metadata": {
    "id": "AGi6XX_7_Bgg"
   },
   "source": [
    "## 2. Обучение и тестирование модели (3 балла)"
   ]
  },
  {
   "cell_type": "markdown",
   "metadata": {
    "id": "0agj_MQoO9Ds"
   },
   "source": [
    "**Задание 2.1 (2 балла).** Переходим к обучению модели. Заполните пропуски в функциях <code>test</code> и <code>train_epoch</code>. В качестве функции потерь будем использовать [кросс-энтропию](https://pytorch.org/docs/stable/generated/torch.nn.functional.cross_entropy.html), а в качестве метрики качества accuracy."
   ]
  },
  {
   "cell_type": "code",
   "execution_count": 11,
   "metadata": {
    "id": "g8gsPPRIevDS"
   },
   "outputs": [],
   "source": [
    "def test(model, loader):\n",
    "    loss_log = []\n",
    "    acc_log = []\n",
    "    model.eval()\n",
    "\n",
    "    criterion = nn.CrossEntropyLoss()\n",
    "    \n",
    "    for data, target in loader:\n",
    "        data = data.to(device)\n",
    "        target = target.to(device)\n",
    "\n",
    "        with torch.no_grad():\n",
    "          logits = model(data)\n",
    "          loss = criterion(logits, target)\n",
    "\n",
    "        acc = (logits.argmax(dim=1) == target).sum() / data.shape[0]\n",
    "        \n",
    "        loss_log.append(loss.item())\n",
    "        acc_log.append(acc.item()) \n",
    "        \n",
    "    return np.mean(loss_log), np.mean(acc_log)\n",
    "\n",
    "def train_epoch(model, optimizer, train_loader):\n",
    "    loss_log = []\n",
    "    acc_log = []\n",
    "    model.train()\n",
    "\n",
    "    criterion = nn.CrossEntropyLoss()\n",
    "    \n",
    "    for data, target in train_loader:\n",
    "        data = data.to(device)\n",
    "        target = target.to(device)\n",
    "\n",
    "        optimizer.zero_grad()\n",
    "        logits = model(data)\n",
    "        loss = criterion(logits, target)\n",
    "        loss.backward()\n",
    "        optimizer.step()\n",
    "\n",
    "        acc = (logits.argmax(dim=1) == target).sum() / data.shape[0]\n",
    "        \n",
    "        loss_log.append(loss.item())\n",
    "        acc_log.append(acc.item()) \n",
    "\n",
    "    return loss_log, acc_log\n",
    "\n",
    "def train(model, optimizer, n_epochs, train_loader, val_loader, scheduler=None):\n",
    "    train_loss_log, train_acc_log, val_loss_log, val_acc_log = [], [], [], []\n",
    "\n",
    "    for epoch in range(n_epochs):\n",
    "        train_loss, train_acc = train_epoch(model, optimizer, train_loader)\n",
    "        val_loss, val_acc = test(model, val_loader)\n",
    "        \n",
    "        train_loss_log.extend(train_loss)\n",
    "        train_acc_log.extend(train_acc)\n",
    "        \n",
    "        val_loss_log.append(val_loss)\n",
    "        val_acc_log.append(val_acc)\n",
    "\n",
    "        print(f\"Epoch {epoch}\")\n",
    "        print(f\" train loss: {np.mean(train_loss)}, train acc: {np.mean(train_acc)}\")\n",
    "        print(f\" val loss: {val_loss}, val acc: {val_acc}\\n\")\n",
    "        \n",
    "        if scheduler is not None:\n",
    "            scheduler.step()\n",
    "\n",
    "    return train_loss_log, train_acc_log, val_loss_log, val_acc_log"
   ]
  },
  {
   "cell_type": "markdown",
   "metadata": {
    "id": "iSOqk_CAO9Dt"
   },
   "source": [
    "Запустим обучение модели. В качестве оптимизатора будем использовать стохастический градиентный спуск, который является де-факто стандартом в задачах компьютерного зрения (наравне с <code>Adam</code>).\n",
    "\n",
    "__Замечание:__ Для достижения наилучшего качества в нашем случае потребуется обучать модель несколько сотен эпох. Однако в целях экономии вашего времени и сил, во всех экспериментах мы ограничимся 20 эпохами."
   ]
  },
  {
   "cell_type": "code",
   "execution_count": 13,
   "metadata": {
    "colab": {
     "base_uri": "https://localhost:8080/"
    },
    "id": "MKZBGhuAgMDu",
    "outputId": "ed66dea0-38e2-4d0b-e7cd-437945618119",
    "scrolled": true
   },
   "outputs": [
    {
     "name": "stdout",
     "output_type": "stream",
     "text": [
      "Epoch 0\n",
      " train loss: 1.458876866091322, train acc: 0.4826284604491002\n",
      " val loss: 1.2073494852857387, val acc: 0.5720079787234043\n",
      "\n",
      "Epoch 1\n",
      " train loss: 1.1447644219537976, train acc: 0.5991610081583751\n",
      " val loss: 1.096054131173073, val acc: 0.6232491135597229\n",
      "\n",
      "Epoch 2\n",
      " train loss: 1.0410441394479881, train acc: 0.6389437517256797\n",
      " val loss: 1.0629014296734587, val acc: 0.6323803191489362\n",
      "\n",
      "Epoch 3\n",
      " train loss: 0.9877199135053311, train acc: 0.6577843432016739\n",
      " val loss: 1.1032871264092465, val acc: 0.6212322696726373\n",
      "\n",
      "Epoch 4\n",
      " train loss: 0.9512273574442053, train acc: 0.6677167668421046\n",
      " val loss: 1.008125992531472, val acc: 0.6502437944107867\n",
      "\n",
      "Epoch 5\n",
      " train loss: 0.9273118849646239, train acc: 0.675890408769604\n",
      " val loss: 0.9704403276139117, val acc: 0.670035461161999\n",
      "\n",
      "Epoch 6\n",
      " train loss: 0.899570203459459, train acc: 0.6863206777537763\n",
      " val loss: 1.058451500091147, val acc: 0.6447695037151905\n",
      "\n",
      "Epoch 7\n",
      " train loss: 0.882464779414904, train acc: 0.6921519979262483\n",
      " val loss: 0.9378227226277616, val acc: 0.6783909574468086\n",
      "\n",
      "Epoch 8\n",
      " train loss: 0.8631026925726826, train acc: 0.7003011557476176\n",
      " val loss: 0.9391687540297813, val acc: 0.6752437944107867\n",
      "\n",
      "Epoch 9\n",
      " train loss: 0.8490856819985335, train acc: 0.7052673674588665\n",
      " val loss: 0.9062135625392833, val acc: 0.6847739361702128\n",
      "\n",
      "Epoch 10\n",
      " train loss: 0.8343427492343094, train acc: 0.7113108840895309\n",
      " val loss: 0.9375503410684302, val acc: 0.6809618795171697\n",
      "\n",
      "Epoch 11\n",
      " train loss: 0.827346723792322, train acc: 0.7128901149280764\n",
      " val loss: 0.9099724848219689, val acc: 0.6881427305809995\n",
      "\n",
      "Epoch 12\n",
      " train loss: 0.8134656643300867, train acc: 0.7175502742230347\n",
      " val loss: 0.9018404126167298, val acc: 0.6958554965384462\n",
      "\n",
      "Epoch 13\n",
      " train loss: 0.8037043127215977, train acc: 0.7207577044392852\n",
      " val loss: 0.928842086487628, val acc: 0.6849955675449777\n",
      "\n",
      "Epoch 14\n",
      " train loss: 0.794824453768826, train acc: 0.7218064443502827\n",
      " val loss: 0.8746049416826126, val acc: 0.7007757093044038\n",
      "\n",
      "Epoch 15\n",
      " train loss: 0.7812971820887962, train acc: 0.7279478977323668\n",
      " val loss: 0.8595652319015341, val acc: 0.7078900710065315\n",
      "\n",
      "Epoch 16\n",
      " train loss: 0.7850373108382634, train acc: 0.7276091996233032\n",
      " val loss: 0.884316483203401, val acc: 0.7014184398854032\n",
      "\n",
      "Epoch 17\n",
      " train loss: 0.7636246552088143, train acc: 0.7326978324100348\n",
      " val loss: 0.9083936277856218, val acc: 0.6898271276595744\n",
      "\n",
      "Epoch 18\n",
      " train loss: 0.7607511989704215, train acc: 0.7363867851236403\n",
      " val loss: 0.9296754213089639, val acc: 0.6878324468085106\n",
      "\n",
      "Epoch 19\n",
      " train loss: 0.7537120827482213, train acc: 0.7374273636659276\n",
      " val loss: 0.8626701499553437, val acc: 0.7036125888215735\n",
      "\n"
     ]
    }
   ],
   "source": [
    "optimizer = optim.SGD(net.parameters(), lr=0.1, momentum=0.9)\n",
    "train_loss_log, train_acc_log, val_loss_log, val_acc_log = train(net, optimizer, 20, train_loader, val_loader)"
   ]
  },
  {
   "cell_type": "markdown",
   "metadata": {
    "id": "gUb1jQW8O9Dt"
   },
   "source": [
    "Посчитайте точность на тестовой выборке:"
   ]
  },
  {
   "cell_type": "code",
   "execution_count": 14,
   "metadata": {
    "id": "iXcY1pX9vSIT"
   },
   "outputs": [],
   "source": [
    "test_loss, test_acc = test(net, test_loader)"
   ]
  },
  {
   "cell_type": "code",
   "execution_count": 15,
   "metadata": {
    "id": "FmKAlHo10TsZ"
   },
   "outputs": [
    {
     "data": {
      "text/plain": [
       "(0.8753219846707241, 0.6983479299363057)"
      ]
     },
     "execution_count": 15,
     "metadata": {},
     "output_type": "execute_result"
    }
   ],
   "source": [
    "test_loss, test_acc"
   ]
  },
  {
   "cell_type": "markdown",
   "metadata": {
    "id": "zM38Q9fwO9Dt"
   },
   "source": [
    "Если вы все сделали правильно, у вас должна была получиться точность $\\ge 67\\%$."
   ]
  },
  {
   "cell_type": "markdown",
   "metadata": {
    "id": "DHFNSKcoO9Dt"
   },
   "source": [
    "**Задание 2.2 (1 балл).** Постройте графики зависимости функции потерь и точности классификации от номера шага оптимизатора. На каждом графике расположите данные и для обучающей и для валидационной выборки, итого у вас должно получиться два графика. Обратите внимание, что на обучающей выборке эти данные считаются по каждому батчу, на валидационной же они считаются по всей выборке раз в эпоху."
   ]
  },
  {
   "cell_type": "code",
   "execution_count": 16,
   "metadata": {
    "id": "ZnRfagEixROD"
   },
   "outputs": [],
   "source": [
    "def plot_losses(train_losses, train_accs, val_losses, val_accs):\n",
    "    fig, axs = plt.subplots(1, 2, figsize=(20, 5))\n",
    "    axs[0].plot(range(1, len(train_losses) + 1), train_losses, label='train')\n",
    "    axs[0].plot(range(1, len(val_losses) + 1), val_losses, label='val')\n",
    "    axs[0].set_ylabel('loss')\n",
    "\n",
    "    axs[1].plot(range(1, len(train_accs) + 1), train_accs, label='train')\n",
    "    axs[1].plot(range(1, len(val_accs) + 1), val_accs, label='val')\n",
    "    axs[1].set_ylabel('accuracy')\n",
    "\n",
    "    for ax in axs:\n",
    "        ax.set_xlabel('epoch')\n",
    "        ax.legend()\n",
    "\n",
    "    plt.show()"
   ]
  },
  {
   "cell_type": "code",
   "execution_count": 17,
   "metadata": {
    "id": "9HThYqEq2fZN"
   },
   "outputs": [],
   "source": [
    "epoch_num = 20\n",
    "epoch_size = int(np.ceil(len(train_loss_log) / 64))\n",
    "train_losses, train_accs = [], []\n",
    "\n",
    "for i in range(epoch_num):\n",
    "  loss_interval = train_loss_log[i * epoch_size: (i + 1) * epoch_size]\n",
    "  acc_interval = train_acc_log[i * epoch_size: (i + 1) * epoch_size]\n",
    "  train_losses.append(sum(loss_interval) / len(loss_interval))\n",
    "  train_accs.append(sum(acc_interval) / len(acc_interval))"
   ]
  },
  {
   "cell_type": "code",
   "execution_count": 18,
   "metadata": {
    "id": "LzIP0tGLO9Dt"
   },
   "outputs": [
    {
     "data": {
      "image/png": "[encoded data removed]",
      "text/plain": [
       "<Figure size 2000x500 with 2 Axes>"
      ]
     },
     "metadata": {},
     "output_type": "display_data"
    }
   ],
   "source": [
    "plot_losses(train_losses, train_accs, val_loss_log, val_acc_log)"
   ]
  },
  {
   "cell_type": "markdown",
   "metadata": {
    "id": "_ttOJPj-O9Dt"
   },
   "source": [
    "## 3. Расписание длины шага (2 балла)"
   ]
  },
  {
   "cell_type": "markdown",
   "metadata": {
    "id": "qiz3JstuO9Dt"
   },
   "source": [
    "С курса \"Машинное обучение 1\" вы уже должны знать, что сходимость стохастического градиентного спуска мы можем теоретически гарантировать только если будем определенным образом со временем уменьшать длину шага. На практике при обучении нейронных сетей такая техника оказывается очень полезной, однако теоретически обоснованными способами уменьшения длины шага фантазия не ограничивается.\n",
    "\n",
    "Одним из простейших способов является кусочно постоянная функция: на нескольких фиксированных эпохах уменьшаем длину шага в константу раз."
   ]
  },
  {
   "cell_type": "code",
   "execution_count": 19,
   "metadata": {
    "id": "V2Z0OT3nO9Du"
   },
   "outputs": [
    {
     "name": "stdout",
     "output_type": "stream",
     "text": [
      "Epoch 0\n",
      " train loss: 1.470600215564916, train acc: 0.47530768482079233\n",
      " val loss: 1.325147253401736, val acc: 0.5338874114320633\n",
      "\n",
      "Epoch 1\n",
      " train loss: 1.154785999323376, train acc: 0.5933215265082267\n",
      " val loss: 1.1057226358576024, val acc: 0.617597517815042\n",
      "\n",
      "Epoch 2\n",
      " train loss: 1.0515478853769669, train acc: 0.6334021612320783\n",
      " val loss: 1.1915129626050909, val acc: 0.5873670212765958\n",
      "\n",
      "Epoch 3\n",
      " train loss: 0.9907442831470064, train acc: 0.6541198747031649\n",
      " val loss: 1.0284191375083112, val acc: 0.6490026595744681\n",
      "\n",
      "Epoch 4\n",
      " train loss: 0.9526587304075196, train acc: 0.6670271285709123\n",
      " val loss: 1.0043473352777197, val acc: 0.6475842199427017\n",
      "\n",
      "Epoch 5\n",
      " train loss: 0.9180450638316885, train acc: 0.6800241578213694\n",
      " val loss: 0.9695457681696465, val acc: 0.6642952127659575\n",
      "\n",
      "Epoch 6\n",
      " train loss: 0.9009483888118751, train acc: 0.6847251240688442\n",
      " val loss: 0.9239315509796142, val acc: 0.678036347602276\n",
      "\n",
      "Epoch 7\n",
      " train loss: 0.8843506466753958, train acc: 0.6908829002973148\n",
      " val loss: 0.9087946004055916, val acc: 0.6890735816448292\n",
      "\n",
      "Epoch 8\n",
      " train loss: 0.8629277129495819, train acc: 0.7000563137056187\n",
      " val loss: 0.8893525643551603, val acc: 0.6918439718002969\n",
      "\n",
      "Epoch 9\n",
      " train loss: 0.8520534992544917, train acc: 0.7035249085923218\n",
      " val loss: 0.891101432607529, val acc: 0.6946808510638298\n",
      "\n",
      "Epoch 10\n",
      " train loss: 0.7430383519455109, train acc: 0.7428465330840465\n",
      " val loss: 0.8296072067098414, val acc: 0.7142508866939139\n",
      "\n",
      "Epoch 11\n",
      " train loss: 0.7253605682518626, train acc: 0.7496449791535164\n",
      " val loss: 0.8236413755315415, val acc: 0.7185726952045521\n",
      "\n",
      "Epoch 12\n",
      " train loss: 0.7212857766386795, train acc: 0.7495715266171932\n",
      " val loss: 0.8198678561981688, val acc: 0.7160460994598713\n",
      "\n",
      "Epoch 13\n",
      " train loss: 0.7169520496995183, train acc: 0.7531992688475405\n",
      " val loss: 0.8222149542037477, val acc: 0.7149822696726373\n",
      "\n",
      "Epoch 14\n",
      " train loss: 0.7118011460225805, train acc: 0.7535869352778307\n",
      " val loss: 0.8133510614963289, val acc: 0.7202349292471054\n",
      "\n",
      "Epoch 15\n",
      " train loss: 0.6993984977222666, train acc: 0.7597243079755598\n",
      " val loss: 0.8108971826573635, val acc: 0.7197695037151904\n",
      "\n",
      "Epoch 16\n",
      " train loss: 0.6974269189281045, train acc: 0.7597406308219463\n",
      " val loss: 0.8092767821981551, val acc: 0.7220301420130628\n",
      "\n",
      "Epoch 17\n",
      " train loss: 0.6957333153845842, train acc: 0.7601527814673331\n",
      " val loss: 0.8092904136535969, val acc: 0.720567376055616\n",
      "\n",
      "Epoch 18\n",
      " train loss: 0.6960660050294517, train acc: 0.7596263712241401\n",
      " val loss: 0.8103924330244673, val acc: 0.721564716481148\n",
      "\n",
      "Epoch 19\n",
      " train loss: 0.6953296539334536, train acc: 0.7595569992632055\n",
      " val loss: 0.8086507099740049, val acc: 0.7208998228641267\n",
      "\n"
     ]
    }
   ],
   "source": [
    "net = BasicBlockNet().to(device)\n",
    "optimizer = optim.SGD(net.parameters(), lr=0.1, momentum=0.9)\n",
    "scheduler = optim.lr_scheduler.MultiStepLR(optimizer, milestones=[10, 15], gamma=0.1)\n",
    "tr_loss_log, tr_acc_log, val_loss_log, val_acc_log = train(net, optimizer, 20, train_loader, val_loader, scheduler)"
   ]
  },
  {
   "cell_type": "markdown",
   "metadata": {
    "id": "5Xc76KvzO9Du"
   },
   "source": [
    "Посчитайте точность на тестовой выборке:"
   ]
  },
  {
   "cell_type": "code",
   "execution_count": 20,
   "metadata": {
    "id": "1AjiYhKqO9Du"
   },
   "outputs": [
    {
     "data": {
      "text/plain": [
       "(0.8270988147349874, 0.7136743630573248)"
      ]
     },
     "execution_count": 20,
     "metadata": {},
     "output_type": "execute_result"
    }
   ],
   "source": [
    "test_loss, test_acc = test(net, test_loader)\n",
    "test_loss, test_acc"
   ]
  },
  {
   "cell_type": "markdown",
   "metadata": {
    "id": "yE0dgLYrO9Du"
   },
   "source": [
    "**Задание 3.0 (0.5 баллов).** Здесь может возникнуть вопрос: а что будет, если мы не будем уменьшать длину шага в процессе обучения, а сразу возьмем констатную, равную значению нашей кусочно-постоянной функции на последних эпохах, то есть $0.001$ в нашем случае. Запустите обучение и проверьте, что в таком случае мы получим худшее качество на тестовой выборке."
   ]
  },
  {
   "cell_type": "code",
   "execution_count": 21,
   "metadata": {
    "id": "qZ2iB-LBO9Du"
   },
   "outputs": [
    {
     "name": "stdout",
     "output_type": "stream",
     "text": [
      "Epoch 0\n",
      " train loss: 1.8587566352631535, train acc: 0.34674931444241314\n",
      " val loss: 1.638531595088066, val acc: 0.4319148936170213\n",
      "\n",
      "Epoch 1\n",
      " train loss: 1.572601719573821, train acc: 0.44766502352039816\n",
      " val loss: 1.4883751118436772, val acc: 0.47781471635432954\n",
      "\n",
      "Epoch 2\n",
      " train loss: 1.4449474151217305, train acc: 0.4921242492290476\n",
      " val loss: 1.4078914424206348, val acc: 0.5047650710065315\n",
      "\n",
      "Epoch 3\n",
      " train loss: 1.3606903204316414, train acc: 0.5224316075471463\n",
      " val loss: 1.3137816353047147, val acc: 0.541001773134191\n",
      "\n",
      "Epoch 4\n",
      " train loss: 1.2995640509089343, train acc: 0.5455120463040019\n",
      " val loss: 1.2575758530738506, val acc: 0.5643173759287976\n",
      "\n",
      "Epoch 5\n",
      " train loss: 1.2456988387177588, train acc: 0.5638751959669961\n",
      " val loss: 1.2152707556460767, val acc: 0.5783687944107867\n",
      "\n",
      "Epoch 6\n",
      " train loss: 1.2047151152786868, train acc: 0.5816425634258626\n",
      " val loss: 1.2025074309491097, val acc: 0.5808953901554675\n",
      "\n",
      "Epoch 7\n",
      " train loss: 1.1603305895542095, train acc: 0.5961004832327039\n",
      " val loss: 1.160279285146835, val acc: 0.5914671986661059\n",
      "\n",
      "Epoch 8\n",
      " train loss: 1.1254661934249361, train acc: 0.6108399713497057\n",
      " val loss: 1.1190389128441507, val acc: 0.6107934397585848\n",
      "\n",
      "Epoch 9\n",
      " train loss: 1.0901679478354167, train acc: 0.6219231523369086\n",
      " val loss: 1.0714535667541178, val acc: 0.6224512412192974\n",
      "\n",
      "Epoch 10\n",
      " train loss: 1.0649726692675672, train acc: 0.6313577305246315\n",
      " val loss: 1.05672702129851, val acc: 0.6303191489361702\n",
      "\n",
      "Epoch 11\n",
      " train loss: 1.0378781676946218, train acc: 0.6366136720237174\n",
      " val loss: 1.038888199025012, val acc: 0.635283688027808\n",
      "\n",
      "Epoch 12\n",
      " train loss: 1.021084802242258, train acc: 0.6455830504515053\n",
      " val loss: 1.00361070835844, val acc: 0.6508200356300841\n",
      "\n",
      "Epoch 13\n",
      " train loss: 0.9998156567814145, train acc: 0.6537036432644567\n",
      " val loss: 1.0342973189151032, val acc: 0.6375443263256804\n",
      "\n",
      "Epoch 14\n",
      " train loss: 0.9859827504079565, train acc: 0.6572783364892224\n",
      " val loss: 0.9838439819660593, val acc: 0.6567597518575953\n",
      "\n",
      "Epoch 15\n",
      " train loss: 0.9701083748170619, train acc: 0.6637299229719521\n",
      " val loss: 0.9886120831712764, val acc: 0.6561170212765958\n",
      "\n",
      "Epoch 16\n",
      " train loss: 0.9596739084454734, train acc: 0.6686226822558443\n",
      " val loss: 0.9770360096972039, val acc: 0.6614583335024246\n",
      "\n",
      "Epoch 17\n",
      " train loss: 0.9534848641869791, train acc: 0.6695530817757142\n",
      " val loss: 0.9576886286126807, val acc: 0.668594858240574\n",
      "\n",
      "Epoch 18\n",
      " train loss: 0.9367645136617001, train acc: 0.6780490990748571\n",
      " val loss: 0.9601339416300997, val acc: 0.6653812058428501\n",
      "\n",
      "Epoch 19\n",
      " train loss: 0.9318076440795466, train acc: 0.678216407678245\n",
      " val loss: 0.9351116084037943, val acc: 0.6760195037151905\n",
      "\n"
     ]
    }
   ],
   "source": [
    "net = BasicBlockNet().to(device)\n",
    "optimizer = optim.SGD(net.parameters(), lr=0.001, momentum=0.9)\n",
    "tr_loss_log, tr_acc_log, val_loss_log, val_acc_log = train(net, optimizer, 20, train_loader, val_loader)"
   ]
  },
  {
   "cell_type": "code",
   "execution_count": 22,
   "metadata": {},
   "outputs": [
    {
     "data": {
      "text/plain": [
       "(0.9371898743757017, 0.675656847133758)"
      ]
     },
     "execution_count": 22,
     "metadata": {},
     "output_type": "execute_result"
    }
   ],
   "source": [
    "test_loss, test_acc = test(net, test_loader)\n",
    "test_loss, test_acc"
   ]
  },
  {
   "cell_type": "markdown",
   "metadata": {},
   "source": [
    "Качество действительно ухудшилось"
   ]
  },
  {
   "cell_type": "markdown",
   "metadata": {
    "id": "xVotU378O9Du"
   },
   "source": [
    "**Задание 3.1 (1.5 балла).** Изучите, какие еще способы уменьшения длины шага представлены в <code>torch.optim.lr_scheduler</code>. Выберите несколько из них, объясните, как они устроены, и обучите модель с ними. Удалось ли добиться улучшения качества на тестовой выборке?"
   ]
  },
  {
   "cell_type": "code",
   "execution_count": 24,
   "metadata": {
    "id": "nkGlzocOO9Du"
   },
   "outputs": [
    {
     "name": "stdout",
     "output_type": "stream",
     "text": [
      "Epoch 0\n",
      " train loss: 1.4705381345487383, train acc: 0.47466701497979313\n",
      " val loss: 1.2869817868192146, val acc: 0.5531028369639782\n",
      "\n",
      "Epoch 1\n",
      " train loss: 1.0975985841951597, train acc: 0.6166508879914362\n",
      " val loss: 1.0814169777200577, val acc: 0.6216755319148937\n",
      "\n",
      "Epoch 2\n",
      " train loss: 1.0383388285663053, train acc: 0.6390743340609061\n",
      " val loss: 1.0527869919513135, val acc: 0.6324024824385948\n",
      "\n",
      "Epoch 3\n",
      " train loss: 1.0317836857147147, train acc: 0.640620919315645\n",
      " val loss: 1.051238541400179, val acc: 0.6324024824385948\n",
      "\n",
      "Epoch 4\n",
      " train loss: 1.0293208564439247, train acc: 0.6420450836038677\n",
      " val loss: 1.0515626235211148, val acc: 0.6326019505237012\n",
      "\n",
      "Epoch 5\n",
      " train loss: 1.0292182370775143, train acc: 0.641131006821418\n",
      " val loss: 1.0513254936705245, val acc: 0.6331338654173181\n",
      "\n",
      "Epoch 6\n",
      " train loss: 1.0307799276965628, train acc: 0.6410861191845463\n",
      " val loss: 1.051683603195434, val acc: 0.6336657803109351\n",
      "\n",
      "Epoch 7\n",
      " train loss: 1.0310985831717467, train acc: 0.6424164272967379\n",
      " val loss: 1.0514921459745854, val acc: 0.6334663122258288\n",
      "\n",
      "Epoch 8\n",
      " train loss: 1.030366005910598, train acc: 0.6408086315587408\n",
      " val loss: 1.051520352160677, val acc: 0.6333998228641267\n",
      "\n",
      "Epoch 9\n",
      " train loss: 1.0296857528102463, train acc: 0.6407066140139996\n",
      " val loss: 1.0512702721230527, val acc: 0.6321365249917862\n",
      "\n",
      "Epoch 10\n",
      " train loss: 1.0303235971513571, train acc: 0.6399190389913876\n",
      " val loss: 1.0509541559726634, val acc: 0.6336657803109351\n",
      "\n",
      "Epoch 11\n",
      " train loss: 1.0296745217478471, train acc: 0.6414615435617715\n",
      " val loss: 1.05246514158046, val acc: 0.6327349292471054\n",
      "\n",
      "Epoch 12\n",
      " train loss: 1.0299064854817155, train acc: 0.6406821297989032\n",
      " val loss: 1.0516042354259085, val acc: 0.6338652483960415\n",
      "\n",
      "Epoch 13\n",
      " train loss: 1.028997579048059, train acc: 0.6418900170535449\n",
      " val loss: 1.0512147200868485, val acc: 0.6328014186088075\n",
      "\n",
      "Epoch 14\n",
      " train loss: 1.0284430968696063, train acc: 0.6416043680590293\n",
      " val loss: 1.0515437070359575, val acc: 0.6328679079705096\n",
      "\n",
      "Epoch 15\n",
      " train loss: 1.0294791677970119, train acc: 0.642220553684932\n",
      " val loss: 1.0507401674351793, val acc: 0.6328014186088075\n",
      "\n",
      "Epoch 16\n",
      " train loss: 1.031175594443159, train acc: 0.6406372421620314\n",
      " val loss: 1.051371763614898, val acc: 0.6339982271194458\n",
      "\n",
      "Epoch 17\n",
      " train loss: 1.0300397381486144, train acc: 0.6402944633686128\n",
      " val loss: 1.0510370003416183, val acc: 0.6343971632896586\n",
      "\n",
      "Epoch 18\n",
      " train loss: 1.0306079571818085, train acc: 0.6412860734807072\n",
      " val loss: 1.052439908524777, val acc: 0.6335992909492331\n",
      "\n",
      "Epoch 19\n",
      " train loss: 1.0299683676341334, train acc: 0.6402414142540648\n",
      " val loss: 1.05130497876634, val acc: 0.633067376055616\n",
      "\n"
     ]
    }
   ],
   "source": [
    "net = BasicBlockNet().to(device)\n",
    "optimizer = optim.SGD(net.parameters(), lr=0.1, momentum=0.9)\n",
    "scheduler = torch.optim.lr_scheduler.ExponentialLR(optimizer, gamma=0.1)\n",
    "tr_loss_log, tr_acc_log, val_loss_log, val_acc_log = train(net, optimizer, 20, train_loader, val_loader, scheduler)"
   ]
  },
  {
   "cell_type": "code",
   "execution_count": 25,
   "metadata": {},
   "outputs": [
    {
     "data": {
      "text/plain": [
       "(1.05771852982272, 0.6275875796178344)"
      ]
     },
     "execution_count": 25,
     "metadata": {},
     "output_type": "execute_result"
    }
   ],
   "source": [
    "test_loss, test_acc = test(net, test_loader)\n",
    "test_loss, test_acc"
   ]
  },
  {
   "cell_type": "markdown",
   "metadata": {},
   "source": [
    "**При использовании ExponentialLR качество ухудшилось**"
   ]
  },
  {
   "cell_type": "code",
   "execution_count": 12,
   "metadata": {},
   "outputs": [
    {
     "name": "stdout",
     "output_type": "stream",
     "text": [
      "Epoch 0\n",
      " train loss: 1.8165423878803986, train acc: 0.3659204427677273\n",
      " val loss: 1.6033872771770397, val acc: 0.4425310284533399\n",
      "\n",
      "Epoch 1\n",
      " train loss: 1.4101368826311729, train acc: 0.49303832601149733\n",
      " val loss: 1.2539129546348085, val acc: 0.5517952127659574\n",
      "\n",
      "Epoch 2\n",
      " train loss: 1.1777724718480922, train acc: 0.584499053371018\n",
      " val loss: 1.0929728495313766, val acc: 0.6189494680851064\n",
      "\n",
      "Epoch 3\n",
      " train loss: 1.065080722681565, train acc: 0.6307986745886655\n",
      " val loss: 1.1318722430695878, val acc: 0.5925531914893617\n",
      "\n",
      "Epoch 4\n",
      " train loss: 1.0051001210099382, train acc: 0.6497167995032707\n",
      " val loss: 1.0068428108032714, val acc: 0.6482269505237012\n",
      "\n",
      "Epoch 5\n",
      " train loss: 0.9639770358092606, train acc: 0.6640400561815641\n",
      " val loss: 0.9910683182959861, val acc: 0.652814716481148\n",
      "\n",
      "Epoch 6\n",
      " train loss: 0.9118165882675477, train acc: 0.6861778532565185\n",
      " val loss: 1.0499877901787453, val acc: 0.6379432624958931\n",
      "\n",
      "Epoch 7\n",
      " train loss: 0.8746497183220914, train acc: 0.6990565422248143\n",
      " val loss: 0.8909808833548363, val acc: 0.6930851063829787\n",
      "\n",
      "Epoch 8\n",
      " train loss: 0.8310253618513208, train acc: 0.7128737921906564\n",
      " val loss: 0.915419439812924, val acc: 0.6835549646235527\n",
      "\n",
      "Epoch 9\n",
      " train loss: 0.786565180506959, train acc: 0.7291557848780421\n",
      " val loss: 0.8589724321314629, val acc: 0.7013519505237011\n",
      "\n",
      "Epoch 10\n",
      " train loss: 0.7348323024714015, train acc: 0.7467925698927159\n",
      " val loss: 0.8039583830123253, val acc: 0.7240469859001485\n",
      "\n",
      "Epoch 11\n",
      " train loss: 0.7505323407963818, train acc: 0.741479498594727\n",
      " val loss: 0.8284062560568465, val acc: 0.7138297872340426\n",
      "\n",
      "Epoch 12\n",
      " train loss: 0.7694411880900263, train acc: 0.7336119091924845\n",
      " val loss: 0.8208536728899529, val acc: 0.7165558510638298\n",
      "\n",
      "Epoch 13\n",
      " train loss: 0.77947441566143, train acc: 0.7297842126659763\n",
      " val loss: 0.8555504072219767, val acc: 0.7062056739279564\n",
      "\n",
      "Epoch 14\n",
      " train loss: 0.7863802694642348, train acc: 0.7284906308219463\n",
      " val loss: 0.8921355210720224, val acc: 0.6926640071767441\n",
      "\n",
      "Epoch 15\n",
      " train loss: 0.7940734731104954, train acc: 0.7263319405166933\n",
      " val loss: 0.8488711902435789, val acc: 0.7047429079705096\n",
      "\n",
      "Epoch 16\n",
      " train loss: 0.7696639053128537, train acc: 0.732550927228422\n",
      " val loss: 0.8441164366742397, val acc: 0.711192376055616\n",
      "\n",
      "Epoch 17\n",
      " train loss: 0.7394084784949719, train acc: 0.744152357090108\n",
      " val loss: 0.8839302695812064, val acc: 0.7037455675449777\n",
      "\n",
      "Epoch 18\n",
      " train loss: 0.7122278717470779, train acc: 0.7553253134600205\n",
      " val loss: 0.7862883226668581, val acc: 0.7294547872340426\n",
      "\n",
      "Epoch 19\n",
      " train loss: 0.6858630290414995, train acc: 0.7633316466751656\n",
      " val loss: 0.7777761961551423, val acc: 0.7346187944107867\n",
      "\n"
     ]
    }
   ],
   "source": [
    "net = BasicBlockNet().to(device)\n",
    "optimizer = optim.SGD(net.parameters(), lr=0.1, momentum=0.9)\n",
    "scheduler = torch.optim.lr_scheduler.CyclicLR(optimizer, base_lr=0.001, max_lr=0.1, step_size_up=5, mode=\"triangular2\")\n",
    "tr_loss_log, tr_acc_log, val_loss_log, val_acc_log = train(net, optimizer, 20, train_loader, val_loader, scheduler)"
   ]
  },
  {
   "cell_type": "code",
   "execution_count": 13,
   "metadata": {},
   "outputs": [
    {
     "data": {
      "text/plain": [
       "(0.7916328593803819, 0.7291003184713376)"
      ]
     },
     "execution_count": 13,
     "metadata": {},
     "output_type": "execute_result"
    }
   ],
   "source": [
    "test_loss, test_acc = test(net, test_loader)\n",
    "test_loss, test_acc"
   ]
  },
  {
   "cell_type": "markdown",
   "metadata": {
    "id": "5a_zMNNVO9Du"
   },
   "source": [
    "**При использовании CyclicLR качество удалось немного улучшить**"
   ]
  },
  {
   "cell_type": "markdown",
   "metadata": {},
   "source": [
    "1. ExponentialLR на каждом шаге умножает lr на gamma (доллжна быть <1), которая задается в виде параметра. $$lr_{epoch} = lr_{init} \\cdot gamma^{epoch}$$\n",
    "2. CyclicLR - triangular2 принимает параметры base_lr (нижняя граница цикла) и max_lr (верхняя граница цикла) и затем циклически изменяет lr в этих границах соответственно параметрам step_size_up (задает количество итераций обучения когда lr увеличивается перед достижением верхней max_lr) и step_size_down (то же самое, но кол-во итераций при уменьшении lr от max_lr к base_lr). Поддерживает разные форматы работы, я использовал triangular2, который после каждого цикла (base_lr->max_lr->base_lr) в два раза уменьшает растояние от base_lr к max_lr, опуская границу max_lr. Таким образом, это позволяет избежать попадания в локальный минимум и при этом дает возможность модели достаточно быстро обучаться по началу."
   ]
  },
  {
   "cell_type": "markdown",
   "metadata": {
    "id": "7xFXgl_3_E--"
   },
   "source": [
    "## 4. Аугментации данных (2 балла)"
   ]
  },
  {
   "cell_type": "markdown",
   "metadata": {
    "id": "5G0Easo9O9Du"
   },
   "source": [
    "Еще одной стандартной техникой, применяющейся в глубинном обучении, а особенно часто в компьютерном зрении, являются аугментации данных. Суть аугментаций состоит в том, что мы можем некоторым синтетическим образом видоизменять объекты обучающей выборки, тем самым расширяя ее, а также делая итоговую модель более устойчивой к таким изменениям.\n",
    "\n",
    "Простейшая аугментация, которую можно применить к картинкам — разворот картинки по горизонтальной оси. То есть при обучении модели с вероятностью $0.5$ мы будем разворачивать картинку из обучающей выборки."
   ]
  },
  {
   "cell_type": "code",
   "execution_count": 14,
   "metadata": {
    "id": "SzeFpgtfO9Du"
   },
   "outputs": [
    {
     "data": {
      "image/png": "[encoded data removed]",
      "text/plain": [
       "<Figure size 640x480 with 1 Axes>"
      ]
     },
     "metadata": {},
     "output_type": "display_data"
    },
    {
     "data": {
      "image/png": "[encoded data removed]",
      "text/plain": [
       "<Figure size 640x480 with 1 Axes>"
      ]
     },
     "metadata": {},
     "output_type": "display_data"
    }
   ],
   "source": [
    "dataiter = iter(train_loader)\n",
    "images, labels = dataiter.next()\n",
    "\n",
    "imshow(torchvision.utils.make_grid(images[:4]))\n",
    "\n",
    "imshow(torchvision.utils.make_grid(transforms.functional.hflip(images[:4])))"
   ]
  },
  {
   "cell_type": "markdown",
   "metadata": {
    "id": "BR4a-XJQO9Du"
   },
   "source": [
    "Наиболее удобным способом работы с аугментациями в PyTorch является их задание в списке <code>transforms</code>, который затем передается в загрузчик данных. Обучим нашу сеть, применяя горизонтальные повороты:"
   ]
  },
  {
   "cell_type": "code",
   "execution_count": 15,
   "metadata": {
    "id": "na0ScBf-_AqX",
    "scrolled": true
   },
   "outputs": [
    {
     "name": "stdout",
     "output_type": "stream",
     "text": [
      "Files already downloaded and verified\n",
      "Files already downloaded and verified\n",
      "Epoch 0\n",
      " train loss: 1.4867492094772172, train acc: 0.4704149256458666\n",
      " val loss: 1.2877302636491492, val acc: 0.5401595744680852\n",
      "\n",
      "Epoch 1\n",
      " train loss: 1.1874222009011988, train acc: 0.5812263319871543\n",
      " val loss: 1.1225111050808683, val acc: 0.6056737590343394\n",
      "\n",
      "Epoch 2\n",
      " train loss: 1.058859269950246, train acc: 0.6290113280852491\n",
      " val loss: 1.0659550512090643, val acc: 0.6293439718002969\n",
      "\n",
      "Epoch 3\n",
      " train loss: 0.998001136335202, train acc: 0.6527201946300388\n",
      " val loss: 1.0010883199407699, val acc: 0.6546099292471054\n",
      "\n",
      "Epoch 4\n",
      " train loss: 0.9600663453177081, train acc: 0.6678106229091693\n",
      " val loss: 0.9841058629624387, val acc: 0.6573581561129144\n",
      "\n",
      "Epoch 5\n",
      " train loss: 0.9236572344516706, train acc: 0.6789835792790819\n",
      " val loss: 0.9459199479285707, val acc: 0.6679742908224147\n",
      "\n",
      "Epoch 6\n",
      " train loss: 0.9070864776370731, train acc: 0.6879733612376113\n",
      " val loss: 0.9557873933873278, val acc: 0.6671320922831272\n",
      "\n",
      "Epoch 7\n",
      " train loss: 0.8960854536981425, train acc: 0.690429942590445\n",
      " val loss: 0.8775204392189675, val acc: 0.697251773134191\n",
      "\n",
      "Epoch 8\n",
      " train loss: 0.8809848281757487, train acc: 0.6947432424076296\n",
      " val loss: 0.9110701964256611, val acc: 0.6874778369639782\n",
      "\n",
      "Epoch 9\n",
      " train loss: 0.8595096028701043, train acc: 0.7023047793935814\n",
      " val loss: 0.899697664189846, val acc: 0.694813829787234\n",
      "\n",
      "Epoch 10\n",
      " train loss: 0.7705882354562854, train acc: 0.7350605576958037\n",
      " val loss: 0.8063033371529681, val acc: 0.7271719859001484\n",
      "\n",
      "Epoch 11\n",
      " train loss: 0.7569473327513805, train acc: 0.7395819731778593\n",
      " val loss: 0.7979809814311088, val acc: 0.7275709220703612\n",
      "\n",
      "Epoch 12\n",
      " train loss: 0.7493619209996525, train acc: 0.7422385088268538\n",
      " val loss: 0.7974469023816129, val acc: 0.7293882978723404\n",
      "\n",
      "Epoch 13\n",
      " train loss: 0.7463577828307039, train acc: 0.7428995821985945\n",
      " val loss: 0.7891048036991282, val acc: 0.731626773134191\n",
      "\n",
      "Epoch 14\n",
      " train loss: 0.7422241196444963, train acc: 0.7436096240005284\n",
      " val loss: 0.7934568173073707, val acc: 0.728125\n",
      "\n",
      "Epoch 15\n",
      " train loss: 0.7301414330546119, train acc: 0.74953071955571\n",
      " val loss: 0.7838646810105506, val acc: 0.7329565603682335\n",
      "\n",
      "Epoch 16\n",
      " train loss: 0.7275959612355589, train acc: 0.7508977540450297\n",
      " val loss: 0.7817964055436722, val acc: 0.7345966313747649\n",
      "\n",
      "Epoch 17\n",
      " train loss: 0.7271438791830317, train acc: 0.7514445678189642\n",
      " val loss: 0.7852350185526178, val acc: 0.7331781914893617\n",
      "\n",
      "Epoch 18\n",
      " train loss: 0.7270554799920245, train acc: 0.7505957822041276\n",
      " val loss: 0.7792646622404139, val acc: 0.7356161348363186\n",
      "\n",
      "Epoch 19\n",
      " train loss: 0.7275846904004077, train acc: 0.7516690063302216\n",
      " val loss: 0.7815106781239205, val acc: 0.7345301420130628\n",
      "\n"
     ]
    }
   ],
   "source": [
    "transform = transforms.Compose(\n",
    "        [transforms.RandomHorizontalFlip(),\n",
    "         transforms.ToTensor(),\n",
    "         transforms.Normalize((0.5, 0.5, 0.5), (0.5, 0.5, 0.5))]\n",
    ")\n",
    "\n",
    "train_loader, val_loader, test_loader = get_cifar10_data(batch_size=64, transform_train=transform)\n",
    "\n",
    "net = BasicBlockNet().to(device)\n",
    "optimizer = optim.SGD(net.parameters(), lr=0.1, momentum=0.9)\n",
    "scheduler = optim.lr_scheduler.MultiStepLR(optimizer, milestones=[10, 15], gamma=0.1)\n",
    "tr_loss_log, tr_acc_log, val_loss_log, val_acc_log = train(net, optimizer, 20, train_loader, val_loader, scheduler)"
   ]
  },
  {
   "cell_type": "markdown",
   "metadata": {
    "id": "v3ZIqDQqO9Dv"
   },
   "source": [
    "Посчитайте точность на тестовой выборке:"
   ]
  },
  {
   "cell_type": "code",
   "execution_count": 16,
   "metadata": {
    "id": "nNJizMkM_Auh"
   },
   "outputs": [
    {
     "data": {
      "text/plain": [
       "(0.7984436129688457, 0.732484076433121)"
      ]
     },
     "execution_count": 16,
     "metadata": {},
     "output_type": "execute_result"
    }
   ],
   "source": [
    "test_loss, test_acc = test(net, test_loader)\n",
    "test_loss, test_acc"
   ]
  },
  {
   "cell_type": "markdown",
   "metadata": {
    "id": "KndehSCHO9Dv"
   },
   "source": [
    "**Задание 4.1 (2 балла).** Изучите, какие еще способы аугментаций изображений представлены в <code>torchvision.transforms</code>. Выберите несколько из них, объясните, как они устроены, и обучите модель с ними (по отдельности и вместе). Удалось ли добиться улучшения качества на тестовой выборке?"
   ]
  },
  {
   "cell_type": "code",
   "execution_count": 19,
   "metadata": {
    "id": "Np4rgvdZ_QRF"
   },
   "outputs": [
    {
     "name": "stdout",
     "output_type": "stream",
     "text": [
      "Files already downloaded and verified\n",
      "Files already downloaded and verified\n",
      "Epoch 0\n",
      " train loss: 1.6746466665424855, train acc: 0.3981538914021452\n",
      " val loss: 1.4822775049412504, val acc: 0.46099290784369124\n",
      "\n",
      "Epoch 1\n",
      " train loss: 1.4134264151400577, train acc: 0.494160518458818\n",
      " val loss: 1.3157039931479921, val acc: 0.5407801420130628\n",
      "\n",
      "Epoch 2\n",
      " train loss: 1.2951373309714267, train acc: 0.5395787085867887\n",
      " val loss: 1.2625694640139316, val acc: 0.5554742908224146\n",
      "\n",
      "Epoch 3\n",
      " train loss: 1.223482102537068, train acc: 0.5689801514911478\n",
      " val loss: 1.1812563350860108, val acc: 0.584219858240574\n",
      "\n",
      "Epoch 4\n",
      " train loss: 1.1769334429796696, train acc: 0.58528662839363\n",
      " val loss: 1.2906886646088134, val acc: 0.5560948582405739\n",
      "\n",
      "Epoch 5\n",
      " train loss: 1.145904145249501, train acc: 0.5980877840322811\n",
      " val loss: 1.1591081936308678, val acc: 0.5924645390916378\n",
      "\n",
      "Epoch 6\n",
      " train loss: 1.114597914314793, train acc: 0.6079467550274223\n",
      " val loss: 1.0960657883197704, val acc: 0.613031914893617\n",
      "\n",
      "Epoch 7\n",
      " train loss: 1.095848814225066, train acc: 0.6158265865916962\n",
      " val loss: 1.1014572310954966, val acc: 0.6185283688788719\n",
      "\n",
      "Epoch 8\n",
      " train loss: 1.0815293178697827, train acc: 0.6229474080328096\n",
      " val loss: 1.103753657290276, val acc: 0.6116356382978724\n",
      "\n",
      "Epoch 9\n",
      " train loss: 1.0623335864469818, train acc: 0.6288399386885397\n",
      " val loss: 1.1738024977927513, val acc: 0.599312943346957\n",
      "\n",
      "Epoch 10\n",
      " train loss: 0.9628344228324333, train acc: 0.6669006268110746\n",
      " val loss: 0.9880909224773975, val acc: 0.6569592199427017\n",
      "\n",
      "Epoch 11\n",
      " train loss: 0.9467875845253576, train acc: 0.6703365762229375\n",
      " val loss: 0.9737590652831057, val acc: 0.6643173759287976\n",
      "\n",
      "Epoch 12\n",
      " train loss: 0.9384703510858023, train acc: 0.6743560655679302\n",
      " val loss: 0.9837221041638801, val acc: 0.6638962765957447\n",
      "\n",
      "Epoch 13\n",
      " train loss: 0.9333415988158482, train acc: 0.6773594606946983\n",
      " val loss: 0.9718956632817045, val acc: 0.6632092199427017\n",
      "\n",
      "Epoch 14\n",
      " train loss: 0.9329017163194729, train acc: 0.6762658331468293\n",
      " val loss: 0.9656870207888015, val acc: 0.6675310284533399\n",
      "\n",
      "Epoch 15\n",
      " train loss: 0.9235227304141308, train acc: 0.6808362170590779\n",
      " val loss: 0.9541143846004567, val acc: 0.6724955674181593\n",
      "\n",
      "Epoch 16\n",
      " train loss: 0.9171382098354849, train acc: 0.6832438299817185\n",
      " val loss: 0.9552163646576253, val acc: 0.6705452127659575\n",
      "\n",
      "Epoch 17\n",
      " train loss: 0.9149942216097328, train acc: 0.6837335140657164\n",
      " val loss: 0.9560781265826935, val acc: 0.6703014186088075\n",
      "\n",
      "Epoch 18\n",
      " train loss: 0.9159240963472091, train acc: 0.6831989423448468\n",
      " val loss: 0.948281921478028, val acc: 0.670766844013904\n",
      "\n",
      "Epoch 19\n",
      " train loss: 0.9166803398123607, train acc: 0.6819828937214951\n",
      " val loss: 0.9575627844384376, val acc: 0.6685283688788718\n",
      "\n"
     ]
    }
   ],
   "source": [
    "transform = transforms.Compose(\n",
    "        [transforms.RandomPerspective(distortion_scale=0.4, p=0.7),\n",
    "         transforms.ColorJitter(0.1, 0.1, 0.1),\n",
    "         transforms.ToTensor(),\n",
    "         transforms.Normalize((0.5, 0.5, 0.5), (0.5, 0.5, 0.5))]\n",
    ")\n",
    "\n",
    "train_loader, val_loader, test_loader = get_cifar10_data(batch_size=64, transform_train=transform)\n",
    "\n",
    "net = BasicBlockNet().to(device)\n",
    "optimizer = optim.SGD(net.parameters(), lr=0.1, momentum=0.9)\n",
    "scheduler = optim.lr_scheduler.MultiStepLR(optimizer, milestones=[10, 15], gamma=0.1)\n",
    "tr_loss_log, tr_acc_log, val_loss_log, val_acc_log = train(net, optimizer, 20, train_loader, val_loader, scheduler)"
   ]
  },
  {
   "cell_type": "code",
   "execution_count": 20,
   "metadata": {},
   "outputs": [
    {
     "data": {
      "text/plain": [
       "(0.8881213177161612, 0.6921775477707006)"
      ]
     },
     "execution_count": 20,
     "metadata": {},
     "output_type": "execute_result"
    }
   ],
   "source": [
    "test_loss, test_acc = test(net, test_loader)\n",
    "test_loss, test_acc"
   ]
  },
  {
   "cell_type": "markdown",
   "metadata": {},
   "source": [
    "**Качество ухудшилось**"
   ]
  },
  {
   "cell_type": "code",
   "execution_count": 21,
   "metadata": {},
   "outputs": [
    {
     "name": "stdout",
     "output_type": "stream",
     "text": [
      "Files already downloaded and verified\n",
      "Files already downloaded and verified\n",
      "Epoch 0\n",
      " train loss: 1.4854159784491363, train acc: 0.4724063071297989\n",
      " val loss: 1.302109262537449, val acc: 0.5341976950777337\n",
      "\n",
      "Epoch 1\n",
      " train loss: 1.1788007119020116, train acc: 0.5885919953613002\n",
      " val loss: 1.1087181235881562, val acc: 0.616046099333053\n",
      "\n",
      "Epoch 2\n",
      " train loss: 1.0546959457711285, train acc: 0.6320351267427587\n",
      " val loss: 1.0519856802960659, val acc: 0.6356826241980208\n",
      "\n",
      "Epoch 3\n",
      " train loss: 0.9861504049798034, train acc: 0.6562704035307415\n",
      " val loss: 0.9901363882612675, val acc: 0.6587987590343394\n",
      "\n",
      "Epoch 4\n",
      " train loss: 0.9487785188110045, train acc: 0.6697244711724234\n",
      " val loss: 0.9921691651039936, val acc: 0.6523714539852549\n",
      "\n",
      "Epoch 5\n",
      " train loss: 0.9199327064824496, train acc: 0.6797466701955638\n",
      " val loss: 0.9933998714102076, val acc: 0.6522828014607125\n",
      "\n",
      "Epoch 6\n",
      " train loss: 0.8957880473877874, train acc: 0.6872510773826125\n",
      " val loss: 0.9244234381838048, val acc: 0.6784352837724889\n",
      "\n",
      "Epoch 7\n",
      " train loss: 0.8818027708931423, train acc: 0.6941433795191471\n",
      " val loss: 0.9556917735870848, val acc: 0.6767952127659574\n",
      "\n",
      "Epoch 8\n",
      " train loss: 0.8679654802003334, train acc: 0.6973752938415276\n",
      " val loss: 0.9171203034989377, val acc: 0.6837322696726373\n",
      "\n",
      "Epoch 9\n",
      " train loss: 0.8432303266071968, train acc: 0.7065895143113144\n",
      " val loss: 0.8958233445248706, val acc: 0.6947473404255319\n",
      "\n",
      "Epoch 10\n",
      " train loss: 0.7391116797815075, train acc: 0.7444910551991716\n",
      " val loss: 0.8271640052186682, val acc: 0.7173980497299357\n",
      "\n",
      "Epoch 11\n",
      " train loss: 0.7267727915068213, train acc: 0.7483799622089379\n",
      " val loss: 0.8275795264446989, val acc: 0.7171542553191489\n",
      "\n",
      "Epoch 12\n",
      " train loss: 0.7209873412492288, train acc: 0.7513017433217064\n",
      " val loss: 0.8205620207685105, val acc: 0.7179078015875309\n",
      "\n",
      "Epoch 13\n",
      " train loss: 0.716175917243173, train acc: 0.75210972187506\n",
      " val loss: 0.820696326012307, val acc: 0.7201462765957447\n",
      "\n",
      "Epoch 14\n",
      " train loss: 0.7135909125617479, train acc: 0.7541051841523138\n",
      " val loss: 0.8193518973411398, val acc: 0.7205008866939139\n",
      "\n",
      "Epoch 15\n",
      " train loss: 0.6996385301488844, train acc: 0.7589408136373028\n",
      " val loss: 0.8115444781932425, val acc: 0.724844858240574\n",
      "\n",
      "Epoch 16\n",
      " train loss: 0.6960579980661926, train acc: 0.7603241708640425\n",
      " val loss: 0.8135812750522127, val acc: 0.7216976952045522\n",
      "\n",
      "Epoch 17\n",
      " train loss: 0.6963853846411382, train acc: 0.7600630060846234\n",
      " val loss: 0.813817508423582, val acc: 0.722251773134191\n",
      "\n",
      "Epoch 18\n",
      " train loss: 0.6949721861365072, train acc: 0.7603731392942356\n",
      " val loss: 0.8132324804650977, val acc: 0.7230718085106383\n",
      "\n",
      "Epoch 19\n",
      " train loss: 0.6942605091841173, train acc: 0.7610954231492344\n",
      " val loss: 0.8106028712810354, val acc: 0.7248670212765957\n",
      "\n"
     ]
    }
   ],
   "source": [
    "transform = transforms.Compose(\n",
    "        [transforms.RandomPerspective(distortion_scale=0.4, p=0.7),\n",
    "         transforms.ToTensor(),\n",
    "         transforms.Normalize((0.5, 0.5, 0.5), (0.5, 0.5, 0.5))]\n",
    ")\n",
    "\n",
    "train_loader, val_loader, test_loader = get_cifar10_data(batch_size=64, transform_train=transform)\n",
    "\n",
    "net = BasicBlockNet().to(device)\n",
    "optimizer = optim.SGD(net.parameters(), lr=0.1, momentum=0.9)\n",
    "scheduler = optim.lr_scheduler.MultiStepLR(optimizer, milestones=[10, 15], gamma=0.1)\n",
    "tr_loss_log, tr_acc_log, val_loss_log, val_acc_log = train(net, optimizer, 20, train_loader, val_loader, scheduler)"
   ]
  },
  {
   "cell_type": "code",
   "execution_count": 22,
   "metadata": {},
   "outputs": [
    {
     "data": {
      "text/plain": [
       "(0.8223985220975937, 0.7202428343949044)"
      ]
     },
     "execution_count": 22,
     "metadata": {},
     "output_type": "execute_result"
    }
   ],
   "source": [
    "test_loss, test_acc = test(net, test_loader)\n",
    "test_loss, test_acc"
   ]
  },
  {
   "cell_type": "markdown",
   "metadata": {},
   "source": [
    "**Качество стало чуть хуже, чем при использовании RandomHorizontalFlip, но выше чем когда использовался и RandomPerspective и ColorJitter**"
   ]
  },
  {
   "cell_type": "code",
   "execution_count": 25,
   "metadata": {},
   "outputs": [
    {
     "name": "stdout",
     "output_type": "stream",
     "text": [
      "Files already downloaded and verified\n",
      "Files already downloaded and verified\n",
      "Epoch 0\n",
      " train loss: 1.4831260659576988, train acc: 0.4721859494118629\n",
      " val loss: 1.2754939895995119, val acc: 0.5419104610351806\n",
      "\n",
      "Epoch 1\n",
      " train loss: 1.164827943175105, train acc: 0.5917790219378428\n",
      " val loss: 1.1188345630118188, val acc: 0.6096631206096487\n",
      "\n",
      "Epoch 2\n",
      " train loss: 1.048505288700299, train acc: 0.6350058762857204\n",
      " val loss: 1.0326870695073553, val acc: 0.6444813829787234\n",
      "\n",
      "Epoch 3\n",
      " train loss: 0.9842458868593359, train acc: 0.6564091473436443\n",
      " val loss: 1.0187545149884325, val acc: 0.6488696808510638\n",
      "\n",
      "Epoch 4\n",
      " train loss: 0.9504792696815086, train acc: 0.6691694960297788\n",
      " val loss: 0.9951346856482486, val acc: 0.6523714539852549\n",
      "\n",
      "Epoch 5\n",
      " train loss: 0.9199662495138876, train acc: 0.6793100353350805\n",
      " val loss: 0.9737514237140087, val acc: 0.6627437944107867\n",
      "\n",
      "Epoch 6\n",
      " train loss: 0.8948519519194824, train acc: 0.6903034409395737\n",
      " val loss: 0.9324400787657879, val acc: 0.6751994680851063\n",
      "\n",
      "Epoch 7\n",
      " train loss: 0.8811861668905785, train acc: 0.6923356294849891\n",
      " val loss: 0.9367168025767549, val acc: 0.6808289007937655\n",
      "\n",
      "Epoch 8\n",
      " train loss: 0.8692633865956196, train acc: 0.6966244450870772\n",
      " val loss: 0.925267502094837, val acc: 0.6834884752618505\n",
      "\n",
      "Epoch 9\n",
      " train loss: 0.8402749234623186, train acc: 0.7058060198640911\n",
      " val loss: 0.9044501203171751, val acc: 0.6969636526513607\n",
      "\n",
      "Epoch 10\n",
      " train loss: 0.7361233052976388, train acc: 0.7437728520285277\n",
      " val loss: 0.8263905343857217, val acc: 0.7169769505237011\n",
      "\n",
      "Epoch 11\n",
      " train loss: 0.7218581168372626, train acc: 0.7490940846952268\n",
      " val loss: 0.8265553649435652, val acc: 0.7166001773895101\n",
      "\n",
      "Epoch 12\n",
      " train loss: 0.7168670448677196, train acc: 0.7529421847524765\n",
      " val loss: 0.8190802723803419, val acc: 0.718218085106383\n",
      "\n",
      "Epoch 13\n",
      " train loss: 0.7108591575400267, train acc: 0.7548193066386025\n",
      " val loss: 0.816150889751759, val acc: 0.7211214539852548\n",
      "\n",
      "Epoch 14\n",
      " train loss: 0.708722106880854, train acc: 0.7561047271139225\n",
      " val loss: 0.8168480402611672, val acc: 0.719281914893617\n",
      "\n",
      "Epoch 15\n",
      " train loss: 0.693665702502078, train acc: 0.7602262341126228\n",
      " val loss: 0.8102820738833001, val acc: 0.7238253547790202\n",
      "\n",
      "Epoch 16\n",
      " train loss: 0.6911521946817255, train acc: 0.7617320123058786\n",
      " val loss: 0.8108956612171011, val acc: 0.7207668441407225\n",
      "\n",
      "Epoch 17\n",
      " train loss: 0.6911653646930263, train acc: 0.7605241251602033\n",
      " val loss: 0.8113507145262779, val acc: 0.7233599292471053\n",
      "\n",
      "Epoch 18\n",
      " train loss: 0.6894249155490882, train acc: 0.7628950118146823\n",
      " val loss: 0.8102811591422304, val acc: 0.7228501773895102\n",
      "\n",
      "Epoch 19\n",
      " train loss: 0.6885340480743423, train acc: 0.7634826326500999\n",
      " val loss: 0.808001696429354, val acc: 0.7229609930768927\n",
      "\n"
     ]
    }
   ],
   "source": [
    "transform = transforms.Compose(\n",
    "        [transforms.ColorJitter(0.1, 0.1, 0.1),\n",
    "         transforms.ToTensor(),\n",
    "         transforms.Normalize((0.5, 0.5, 0.5), (0.5, 0.5, 0.5))]\n",
    ")\n",
    "\n",
    "train_loader, val_loader, test_loader = get_cifar10_data(batch_size=64, transform_train=transform)\n",
    "\n",
    "net = BasicBlockNet().to(device)\n",
    "optimizer = optim.SGD(net.parameters(), lr=0.1, momentum=0.9)\n",
    "scheduler = optim.lr_scheduler.MultiStepLR(optimizer, milestones=[10, 15], gamma=0.1)\n",
    "tr_loss_log, tr_acc_log, val_loss_log, val_acc_log = train(net, optimizer, 20, train_loader, val_loader, scheduler)"
   ]
  },
  {
   "cell_type": "code",
   "execution_count": 26,
   "metadata": {},
   "outputs": [
    {
     "data": {
      "text/plain": [
       "(0.8216555486818787, 0.7190485668789809)"
      ]
     },
     "execution_count": 26,
     "metadata": {},
     "output_type": "execute_result"
    }
   ],
   "source": [
    "test_loss, test_acc = test(net, test_loader)\n",
    "test_loss, test_acc"
   ]
  },
  {
   "cell_type": "markdown",
   "metadata": {},
   "source": [
    "**Качество ухудшилось чуть сильнее, чем при использовании только Random Perspective**"
   ]
  },
  {
   "cell_type": "markdown",
   "metadata": {},
   "source": [
    "1. RandomPerspective. С заданной вероятностью выполняет случайное преобразование перспективы изображения.\n",
    "2. ColorJitter. Произвольно изменяет яркость, контрастность, насыщенность и оттенки цветов изображения."
   ]
  },
  {
   "cell_type": "markdown",
   "metadata": {
    "id": "HCENjLw5O9Dv"
   },
   "source": [
    "## Бонус. Логирование в wandb (2 балла)"
   ]
  },
  {
   "cell_type": "markdown",
   "metadata": {
    "id": "xOyzc1mnO9Dv"
   },
   "source": [
    "На практике специалиста по глубинному обучению часто встречаются ситуации, когда нейросеть учится на каком-то удаленном сервере. И обычно вам хочется отслеживать прогресс обучения, особенно когда время обучения модели исчисляется днями или неделями. Для таких целей существует несколько инструментов. Вероятно, самый популярный из них — [wandb](https://wandb.ai/site).\n",
    "\n",
    "Ваша задача состоит в том, чтобы разобраться как им пользоваться, и повторить задания 2.1 и 2.2 с его использованием. Обучение вы можете запускать в этом же ноутбуке, но теперь вам необходимо через wandb логировать значения функции потерь и точности на обучающей выборке и на валидационной. Результатом работы должны быть ваш код и публичная ссылка на страничку с графиками, идентичными графикам в задании 2.2."
   ]
  },
  {
   "cell_type": "code",
   "execution_count": 35,
   "metadata": {
    "id": "m5gSTLAr_QS4"
   },
   "outputs": [],
   "source": [
    "import wandb\n",
    "\n",
    "def test(model, loader):\n",
    "    loss_log = []\n",
    "    acc_log = []\n",
    "    model.eval()\n",
    "    \n",
    "    criterion = nn.CrossEntropyLoss()\n",
    "\n",
    "    for data, target in loader:\n",
    "        data = data.to(device)\n",
    "        target = target.to(device)\n",
    "\n",
    "        logits = model(data)\n",
    "        loss = criterion(logits, target)\n",
    "\n",
    "        acc = (logits.argmax(dim=1) == target).sum() / data.shape[0]\n",
    "        \n",
    "        loss_log.append(loss.item())\n",
    "        acc_log.append(acc.item()) \n",
    "        \n",
    "    return np.mean(loss_log), np.mean(acc_log)\n",
    "\n",
    "def train_epoch(model, optimizer, train_loader):\n",
    "    loss_log = []\n",
    "    acc_log = []\n",
    "    model.train()\n",
    "    \n",
    "    criterion = nn.CrossEntropyLoss()\n",
    "\n",
    "    for data, target in train_loader:\n",
    "        data = data.to(device)\n",
    "        target = target.to(device)\n",
    "\n",
    "        optimizer.zero_grad()\n",
    "        logits = model(data)\n",
    "        loss = criterion(logits, target)\n",
    "        loss.backward()\n",
    "        optimizer.step()\n",
    "\n",
    "        acc = (logits.argmax(dim=1) == target).sum() / data.shape[0]\n",
    "        \n",
    "        loss_log.append(loss.item())\n",
    "        acc_log.append(acc.item())\n",
    "\n",
    "    return loss_log, acc_log\n",
    "\n",
    "def train(model, optimizer, n_epochs, train_loader, val_loader, scheduler=None):\n",
    "    train_loss_log, train_acc_log, val_loss_log, val_acc_log = [], [], [], []\n",
    "    train_loss_epochs, train_acc_epochs = [], []\n",
    "    run = wandb.init(project='shw2-dl')\n",
    "\n",
    "    for epoch in range(n_epochs):\n",
    "        train_loss, train_acc = train_epoch(model, optimizer, train_loader)\n",
    "        val_loss, val_acc = test(model, val_loader)\n",
    "        \n",
    "        train_loss_log.extend(train_loss)\n",
    "        train_acc_log.extend(train_acc)\n",
    "        train_loss_epochs.append(np.mean(train_loss))\n",
    "        train_acc_epochs.append(np.mean(train_acc))\n",
    "        \n",
    "        val_loss_log.append(val_loss)\n",
    "        val_acc_log.append(val_acc)\n",
    "\n",
    "        wandb.log({\"Accuracy\": wandb.plot.line_series(\n",
    "                xs=list(range(epoch + 1)),\n",
    "                ys=[train_acc_epochs, val_acc_log],\n",
    "                keys=[\"train\", \"val\"],\n",
    "                title=\"Accuracy\",\n",
    "                xname=\"epoch\")})\n",
    "        \n",
    "        wandb.log({\"Loss\": wandb.plot.line_series(\n",
    "                xs=list(range(epoch + 1)),\n",
    "                ys=[train_loss_epochs, val_loss_log],\n",
    "                keys=[\"train\", \"val\"],\n",
    "                title=\"Loss\",\n",
    "                xname=\"epoch\")})\n",
    "\n",
    "        print(f\"Epoch {epoch}\")\n",
    "        print(f\" train loss: {np.mean(train_loss)}, train acc: {np.mean(train_acc)}\")\n",
    "        print(f\" val loss: {val_loss}, val acc: {val_acc}\\n\")\n",
    "        \n",
    "        if scheduler is not None:\n",
    "            scheduler.step()\n",
    "\n",
    "    run.finish()\n",
    "\n",
    "    return train_loss_log, train_acc_log, val_loss_log, val_acc_log"
   ]
  },
  {
   "cell_type": "code",
   "execution_count": null,
   "metadata": {},
   "outputs": [
    {
     "data": {
      "text/html": [
       "Tracking run with wandb version 0.13.4"
      ],
      "text/plain": [
       "<IPython.core.display.HTML object>"
      ]
     },
     "metadata": {},
     "output_type": "display_data"
    },
    {
     "data": {
      "text/html": [
       "Run data is saved locally in <code>/home/joaksenov/wandb/run-20221103_184459-1whlfswy</code>"
      ],
      "text/plain": [
       "<IPython.core.display.HTML object>"
      ]
     },
     "metadata": {},
     "output_type": "display_data"
    },
    {
     "data": {
      "text/html": [
       "Syncing run <strong><a href=\"https://wandb.ai/yaraksen/shw2-dl/runs/1whlfswy\" target=\"_blank\">different-dragon-14</a></strong> to <a href=\"https://wandb.ai/yaraksen/shw2-dl\" target=\"_blank\">Weights & Biases</a> (<a href=\"https://wandb.me/run\" target=\"_blank\">docs</a>)<br/>"
      ],
      "text/plain": [
       "<IPython.core.display.HTML object>"
      ]
     },
     "metadata": {},
     "output_type": "display_data"
    },
    {
     "name": "stdout",
     "output_type": "stream",
     "text": [
      "Epoch 0\n",
      " train loss: 1.4918937052189758, train acc: 0.4694926873857404\n",
      " val loss: 1.2084329574666124, val acc: 0.5741356382978723\n",
      "\n",
      "Epoch 1\n",
      " train loss: 1.180236438074757, train acc: 0.5848132672649851\n",
      " val loss: 1.1252459465189184, val acc: 0.6140735816448293\n",
      "\n",
      "Epoch 2\n",
      " train loss: 1.0649595903522135, train acc: 0.6280074759200897\n",
      " val loss: 1.0362725415128342, val acc: 0.6374335106382979\n",
      "\n",
      "Epoch 3\n",
      " train loss: 1.0112733018245732, train acc: 0.6473091864716636\n",
      " val loss: 1.0428351105527676, val acc: 0.6352615249917862\n",
      "\n",
      "Epoch 4\n",
      " train loss: 0.9699526940228952, train acc: 0.660506170127248\n",
      " val loss: 0.9710200228589646, val acc: 0.6574689718002968\n",
      "\n",
      "Epoch 5\n",
      " train loss: 0.9439297070015065, train acc: 0.6705242883570669\n",
      " val loss: 0.9743613108675531, val acc: 0.6623005319148936\n",
      "\n",
      "Epoch 6\n",
      " train loss: 0.9152223489620132, train acc: 0.682219574394784\n",
      " val loss: 0.9563361809608785, val acc: 0.6673980497299357\n",
      "\n",
      "Epoch 7\n",
      " train loss: 0.8961902156172549, train acc: 0.688871115282641\n",
      " val loss: 0.9229276570867985, val acc: 0.6784796100981692\n",
      "\n",
      "Epoch 8\n",
      " train loss: 0.8776739081146512, train acc: 0.6958776770169818\n",
      " val loss: 1.0296572467114062, val acc: 0.6423315603682336\n",
      "\n",
      "Epoch 9\n",
      " train loss: 0.8593357579145833, train acc: 0.7017620463040019\n",
      " val loss: 0.935579710311078, val acc: 0.6802083335024245\n",
      "\n",
      "Epoch 10\n",
      " train loss: 0.8463839217884231, train acc: 0.7078341277251514\n",
      " val loss: 1.0095320866463031, val acc: 0.661657801587531\n",
      "\n",
      "Epoch 11\n",
      " train loss: 0.8334789472807478, train acc: 0.710592680918887\n",
      " val loss: 0.9185924281465246, val acc: 0.6782579787234042\n",
      "\n",
      "Epoch 12\n",
      " train loss: 0.8236829725109462, train acc: 0.7155017629401993\n",
      " val loss: 0.9512609540147984, val acc: 0.6797872340425531\n",
      "\n",
      "Epoch 13\n",
      " train loss: 0.8116528577081028, train acc: 0.717954263608678\n",
      " val loss: 0.8671050764144735, val acc: 0.7001329787234043\n",
      "\n",
      "Epoch 14\n",
      " train loss: 0.8036208749907108, train acc: 0.7208148342381884\n",
      " val loss: 0.8710098560820234, val acc: 0.6985593973322117\n",
      "\n",
      "Epoch 15\n",
      " train loss: 0.7920174040240823, train acc: 0.7247159833010197\n",
      " val loss: 0.8886149903561207, val acc: 0.6969414893617021\n",
      "\n",
      "Epoch 16\n",
      " train loss: 0.7810040687839117, train acc: 0.7287273113862688\n",
      " val loss: 0.855703819051702, val acc: 0.7091090425531915\n",
      "\n",
      "Epoch 17\n",
      " train loss: 0.7775845145176707, train acc: 0.7314940259487145\n",
      " val loss: 0.8664307737604101, val acc: 0.7032801420130628\n",
      "\n",
      "Epoch 18\n",
      " train loss: 0.7673258468154579, train acc: 0.7372927005373799\n",
      " val loss: 0.870374234179233, val acc: 0.7024822696726373\n",
      "\n",
      "Epoch 19\n",
      " train loss: 0.7612192666181916, train acc: 0.737810949411863\n",
      " val loss: 0.868960297234515, val acc: 0.7058953901554675\n",
      "\n"
     ]
    },
    {
     "data": {
      "text/html": [
       "Waiting for W&B process to finish... <strong style=\"color:green\">(success).</strong>"
      ],
      "text/plain": [
       "<IPython.core.display.HTML object>"
      ]
     },
     "metadata": {},
     "output_type": "display_data"
    }
   ],
   "source": [
    "net = BasicBlockNet().to(device)\n",
    "optimizer = optim.SGD(net.parameters(), lr=0.1, momentum=0.9)\n",
    "train_loss_log, train_acc_log, val_loss_log, val_acc_log = train(net, optimizer, 20, train_loader, val_loader)"
   ]
  },
  {
   "cell_type": "markdown",
   "metadata": {},
   "source": [
    "Тут можно посмотреть графики: https://wandb.ai/yaraksen/shw2-dl/runs/1whlfswy"
   ]
  }
 ],
 "metadata": {
  "accelerator": "GPU",
  "colab": {
   "collapsed_sections": [],
   "provenance": []
  },
  "kernelspec": {
   "display_name": "Python 3 (ipykernel)",
   "language": "python",
   "name": "python3"
  },
  "language_info": {
   "codemirror_mode": {
    "name": "ipython",
    "version": 3
   },
   "file_extension": ".py",
   "mimetype": "text/x-python",
   "name": "python",
   "nbconvert_exporter": "python",
   "pygments_lexer": "ipython3",
   "version": "3.9.12"
  }
 },
 "nbformat": 4,
 "nbformat_minor": 1
}
